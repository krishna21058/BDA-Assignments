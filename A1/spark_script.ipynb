{
 "cells": [
  {
   "cell_type": "code",
   "execution_count": 1,
   "metadata": {},
   "outputs": [],
   "source": [
    "# pip install pyspark"
   ]
  },
  {
   "cell_type": "code",
   "execution_count": null,
   "metadata": {},
   "outputs": [],
   "source": [
    "from pyspark import SparkContext,SparkConf\n",
    "\n",
    "conf = SparkConf().set(\"spark.jars.packages\", \"org.mongodb.spark:mongo-spark-connector_2.12:10.4.0\")\n",
    "sc = SparkContext(conf=conf)"
   ]
  },
  {
   "cell_type": "code",
   "execution_count": 11,
   "metadata": {},
   "outputs": [],
   "source": [
    "from pyspark.sql import SparkSession\n",
    "spark = SparkSession.builder \\\n",
    "    .appName(\"MongoDBQueryExample\") \\\n",
    "    .config(\"spark.mongodb.input.uri\", \"mongodb://localhost:27017/univresitydb\") \\\n",
    "    .config(\"spark.mongodb.output.uri\", \"mongodb://localhost:27017/universitydb\") \\\n",
    "    .getOrCreate()"
   ]
  },
  {
   "cell_type": "code",
   "execution_count": 12,
   "metadata": {},
   "outputs": [],
   "source": [
    "students_df = spark.read.format(\"mongodb\") \\\n",
    "    .option(\"database\", \"universitydb\") \\\n",
    "    .option(\"collection\", \"students\") \\\n",
    "    .load()\n",
    "courses_df = spark.read.format(\"mongodb\") \\\n",
    "    .option(\"database\", \"universitydb\") \\\n",
    "    .option(\"collection\", \"courses\") \\\n",
    "    .load()\n",
    "instructors_df = spark.read.format(\"mongodb\") \\\n",
    "    .option(\"database\", \"universitydb\") \\\n",
    "    .option(\"collection\", \"instructors\") \\\n",
    "    .load()"
   ]
  },
  {
   "cell_type": "code",
   "execution_count": 13,
   "metadata": {},
   "outputs": [],
   "source": [
    "# students_df = students_df.repartition(10)\n",
    "\n",
    "# courses_df = courses_df.repartition(10)\n",
    "# instructors_df = instructors_df.repartition(10)\n",
    "\n",
    "courses_partitioned_df = courses_df.repartition(10,\"_id\")  \n",
    "students_df = students_df.repartition(10,\"_id\")\n",
    "instructors_partitioned_df = instructors_df.repartition(10,\"_id\") "
   ]
  },
  {
   "cell_type": "code",
   "execution_count": 21,
   "metadata": {},
   "outputs": [
    {
     "name": "stdout",
     "output_type": "stream",
     "text": [
      "+---+----------+---------+\n",
      "|_id|first_name|last_name|\n",
      "+---+----------+---------+\n",
      "| 10|       Dre|  Kersley|\n",
      "|  1|    Sharyl|   Jaouen|\n",
      "| 11|      Gabi|  Crystal|\n",
      "| 61|    Victor|   Sleany|\n",
      "| 56|      Tome|    Maven|\n",
      "| 13|    Jo-ann|Heindrich|\n",
      "| 57|    Nikkie|Eadmeades|\n",
      "| 16|  Collette| Brenneke|\n",
      "+---+----------+---------+\n",
      "\n",
      "Query Time: 0.2509124279022217 seconds\n"
     ]
    }
   ],
   "source": [
    "from pyspark.sql import functions as F\n",
    "import time\n",
    "\n",
    "course_id = 1\n",
    "start_time = time.time()\n",
    "\n",
    "students_enrolled = students_df.withColumn(\"enrollment\", F.explode(\"enrollments\")) \\\n",
    "    .filter(F.col(\"enrollment.course_id\") == course_id) \\\n",
    "    .select(\"_id\",\"first_name\", \"last_name\")\n",
    "\n",
    "students_enrolled.show()\n",
    "\n",
    "end_time = time.time()\n",
    "print(f\"Query Time: {end_time - start_time} seconds\")\n"
   ]
  },
  {
   "cell_type": "code",
   "execution_count": 15,
   "metadata": {},
   "outputs": [
    {
     "name": "stdout",
     "output_type": "stream",
     "text": [
      "+----------------+\n",
      "|average_students|\n",
      "+----------------+\n",
      "|             3.0|\n",
      "+----------------+\n",
      "\n",
      "Query Time: 0.48116493225097656 seconds\n"
     ]
    }
   ],
   "source": [
    "from pyspark.sql import functions as F\n",
    "import time\n",
    "\n",
    "instructor_id = 1  \n",
    "start_time = time.time()\n",
    "\n",
    "courses_by_instructor = courses_df.filter(F.col(\"instructor.instructor_id\") == instructor_id) \\\n",
    "    .withColumnRenamed(\"_id\", \"course_id\")\n",
    "\n",
    "students_with_enrollments = students_df.withColumn(\"enrollment\", F.explode(\"enrollments\"))\n",
    "\n",
    "avg_students_per_course = students_with_enrollments \\\n",
    "    .join(courses_by_instructor, F.col(\"enrollment.course_id\") == F.col(\"course_id\"), \"inner\") \\\n",
    "    .groupBy(\"course_id\") \\\n",
    "    .agg(F.count(\"enrollment.course_id\").alias(\"student_count\")) \\\n",
    "    .agg(F.avg(\"student_count\").alias(\"average_students\"))\n",
    "\n",
    "avg_students_per_course.show()\n",
    "\n",
    "end_time = time.time()\n",
    "print(f\"Query Time: {end_time - start_time} seconds\")\n"
   ]
  },
  {
   "cell_type": "code",
   "execution_count": 22,
   "metadata": {},
   "outputs": [
    {
     "name": "stdout",
     "output_type": "stream",
     "text": [
      "+---+--------------------+-----------+\n",
      "|_id|         course_name|course_code|\n",
      "+---+--------------------+-----------+\n",
      "|  8|            Calculus|    MATH101|\n",
      "|  2|      Linear Algebra|    MATH201|\n",
      "| 14|          Statistics|    MATH301|\n",
      "| 20|Discrete Mathematics|    MATH401|\n",
      "| 26|Differential Equa...|    MATH501|\n",
      "| 32|       Number Theory|    MATH601|\n",
      "| 38|            Topology|    MATH701|\n",
      "| 44|    Abstract Algebra|    MATH801|\n",
      "| 50|       Real Analysis|    MATH901|\n",
      "| 56|       Number Theory|   MATH1001|\n",
      "+---+--------------------+-----------+\n",
      "\n",
      "Query Time: 0.11560344696044922 seconds\n"
     ]
    }
   ],
   "source": [
    "department_id = 2  \n",
    "\n",
    "start_time = time.time()\n",
    "\n",
    "courses_by_department = courses_df.filter(F.col(\"department.department_id\") == department_id)\n",
    "\n",
    "courses_by_department.select(\"_id\",\"course_name\", \"course_code\").show()\n",
    "\n",
    "end_time = time.time()\n",
    "print(f\"Query Time: {end_time - start_time} seconds\")\n"
   ]
  },
  {
   "cell_type": "code",
   "execution_count": 17,
   "metadata": {},
   "outputs": [
    {
     "name": "stdout",
     "output_type": "stream",
     "text": [
      "+----------------+--------------+\n",
      "| department_name|total_students|\n",
      "+----------------+--------------+\n",
      "|             Art|            51|\n",
      "|       Chemistry|            53|\n",
      "|         English|            49|\n",
      "|         History|            42|\n",
      "|           Music|            49|\n",
      "|     Mathematics|            48|\n",
      "|         Physics|            47|\n",
      "|Computer Science|            65|\n",
      "|       Economics|            39|\n",
      "|         Biology|            39|\n",
      "+----------------+--------------+\n",
      "\n",
      "Query Time: 0.3096766471862793 seconds\n"
     ]
    }
   ],
   "source": [
    "start_time = time.time()\n",
    "\n",
    "students_per_department = students_df.groupBy(\"department.department_name\") \\\n",
    "    .agg(F.count(\"*\").alias(\"total_students\"))\n",
    "\n",
    "students_per_department.show()\n",
    "\n",
    "end_time = time.time()\n",
    "print(f\"Query Time: {end_time - start_time} seconds\")\n"
   ]
  },
  {
   "cell_type": "code",
   "execution_count": 30,
   "metadata": {},
   "outputs": [
    {
     "name": "stdout",
     "output_type": "stream",
     "text": [
      "+-------------+---------------+\n",
      "|instructor_id|instructor_name|\n",
      "+-------------+---------------+\n",
      "|            1|Cariotta Worboy|\n",
      "+-------------+---------------+\n",
      "\n",
      "Query Time: 0.2633509635925293 seconds\n"
     ]
    }
   ],
   "source": [
    "from pyspark.sql import functions as F\n",
    "import time\n",
    "\n",
    "start_time = time.time()\n",
    "\n",
    "btech_cse_core_courses = courses_df.filter((F.col(\"department.department_name\") == \"Computer Science\") & (F.col(\"is_core\") == True))\n",
    "\n",
    "instructor_taught_all = btech_cse_core_courses.groupBy(\"instructor.instructor_id\", \"instructor.instructor_name\")\\\n",
    "    .agg(F.collect_set(\"_id\").alias(\"courses_taught\")) \\\n",
    "    .filter(F.size(\"courses_taught\") == btech_cse_core_courses.count())\n",
    "\n",
    "instructor_taught_all_without_courses = instructor_taught_all.drop(\"courses_taught\")\n",
    "\n",
    "instructor_taught_all_without_courses.show()\n",
    "\n",
    "end_time = time.time()\n",
    "print(f\"Query Time: {end_time - start_time} seconds\")\n"
   ]
  },
  {
   "cell_type": "code",
   "execution_count": 19,
   "metadata": {},
   "outputs": [
    {
     "name": "stdout",
     "output_type": "stream",
     "text": [
      "+---------+--------------------+-----------------+\n",
      "|course_id|         course_name|total_enrollments|\n",
      "+---------+--------------------+-----------------+\n",
      "|        3| Classical Mechanics|               17|\n",
      "|        8|            Calculus|                9|\n",
      "|        5|            Genetics|                8|\n",
      "|        1|Introduction to C...|                8|\n",
      "|        9|   Quantum Mechanics|                6|\n",
      "|       40|Environmental Che...|                6|\n",
      "|        6|     Data Structures|                5|\n",
      "|        7|Artificial Intell...|                4|\n",
      "|        2|      Linear Algebra|                4|\n",
      "|        4|   Organic Chemistry|                3|\n",
      "+---------+--------------------+-----------------+\n",
      "\n",
      "Query Time: 0.35017919540405273 seconds\n"
     ]
    }
   ],
   "source": [
    "start_time = time.time()\n",
    "\n",
    "top_10_courses = students_df.withColumn(\"enrollment\", F.explode(\"enrollments\")) \\\n",
    "    .groupBy(\"enrollment.course_id\", \"enrollment.course_name\") \\\n",
    "    .agg(F.count(\"enrollment.course_id\").alias(\"total_enrollments\")) \\\n",
    "    .orderBy(F.desc(\"total_enrollments\")) \\\n",
    "    .limit(10)\n",
    "\n",
    "top_10_courses.show()\n",
    "\n",
    "end_time = time.time()\n",
    "print(f\"Query Time: {end_time - start_time} seconds\")\n"
   ]
  }
 ],
 "metadata": {
  "kernelspec": {
   "display_name": "Python 3",
   "language": "python",
   "name": "python3"
  },
  "language_info": {
   "codemirror_mode": {
    "name": "ipython",
    "version": 3
   },
   "file_extension": ".py",
   "mimetype": "text/x-python",
   "name": "python",
   "nbconvert_exporter": "python",
   "pygments_lexer": "ipython3",
   "version": "3.10.11"
  }
 },
 "nbformat": 4,
 "nbformat_minor": 2
}
