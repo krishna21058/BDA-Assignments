{
 "cells": [
  {
   "cell_type": "code",
   "execution_count": null,
   "metadata": {},
   "outputs": [],
   "source": [
    "! python -m pip install --upgrade pip "
   ]
  },
  {
   "cell_type": "code",
   "execution_count": 77,
   "metadata": {},
   "outputs": [],
   "source": [
    "from pyspark.sql import SparkSession\n",
    "\n",
    "spark = SparkSession.builder \\\n",
    "    .appName(\"Neo4jSparkApp\") \\\n",
    "    .config(\"spark.jars.packages\",\"org.neo4j:neo4j-connector-apache-spark_2.12:5.3.2_for_spark_3\") \\\n",
    "    .config(\"spark.jars.packages\", \"graphframes:graphframes:0.8.2-spark3.0-s_2.12\") \\\n",
    "    .config(\"neo4j.url\", \"bolt://localhost:7687\") \\\n",
    "    .config(\"neo4j.authentication.basic.username\", \"neo4j\") \\\n",
    "    .config(\"neo4j.authentication.basic.password\", \"krishna1\") \\\n",
    "    .config(\"neo4j.database\", \"neo4j\") \\\n",
    "    .getOrCreate()"
   ]
  },
  {
   "cell_type": "code",
   "execution_count": 78,
   "metadata": {},
   "outputs": [
    {
     "name": "stdout",
     "output_type": "stream",
     "text": [
      "+----+--------+----------+\n",
      "|<id>|<labels>|        id|\n",
      "+----+--------+----------+\n",
      "|   0| [Paper]|2150881840|\n",
      "|   1| [Paper]|1971405342|\n",
      "|   2| [Paper]|2160484294|\n",
      "|   3| [Paper]|2147271487|\n",
      "|   4| [Paper]|1967380282|\n",
      "|   5| [Paper]|2048748336|\n",
      "|   6| [Paper]|2805510628|\n",
      "|   7| [Paper]|2407716750|\n",
      "|   8| [Paper]|2150203549|\n",
      "|   9| [Paper]|2971329390|\n",
      "|  10| [Paper]|2052589210|\n",
      "|  11| [Paper]|1993983849|\n",
      "|  12| [Paper]|3022911403|\n",
      "|  13| [Paper]|2912205033|\n",
      "|  14| [Paper]|2964084596|\n",
      "|  15| [Paper]|2963132284|\n",
      "|  16| [Paper]|2167322980|\n",
      "|  17| [Paper]|2141829656|\n",
      "|  18| [Paper]|2147345946|\n",
      "|  19| [Paper]|2125859743|\n",
      "+----+--------+----------+\n",
      "only showing top 20 rows\n",
      "\n"
     ]
    }
   ],
   "source": [
    "df=(\n",
    "    spark.read.format(\"org.neo4j.spark.DataSource\")\n",
    "    .option(\"labels\",\"Paper\")\n",
    "    .load()\n",
    "    .show()\n",
    "    )"
   ]
  },
  {
   "cell_type": "code",
   "execution_count": 79,
   "metadata": {},
   "outputs": [
    {
     "name": "stdout",
     "output_type": "stream",
     "text": [
      "+----+--------+\n",
      "|<id>|<labels>|\n",
      "+----+--------+\n",
      "+----+--------+\n",
      "\n"
     ]
    }
   ],
   "source": [
    "df=(\n",
    "    spark.read.format(\"org.neo4j.spark.DataSource\")\n",
    "    .option(\"labels\",\"CITES\")\n",
    "    .load()\n",
    "    .show()\n",
    "    )"
   ]
  },
  {
   "cell_type": "code",
   "execution_count": 80,
   "metadata": {},
   "outputs": [],
   "source": [
    "nodes_df = spark.read.format(\"org.neo4j.spark.DataSource\") \\\n",
    "    .option(\"labels\", \":Paper\") \\\n",
    "    .load()\n",
    "\n",
    "relationships_df = spark.read.format(\"org.neo4j.spark.DataSource\") \\\n",
    "    .option(\"relationship\", \"CITES\") \\\n",
    "    .option(\"relationship.source.labels\", \":Paper\") \\\n",
    "    .option(\"relationship.target.labels\", \":Paper\") \\\n",
    "    .load()\n"
   ]
  },
  {
   "cell_type": "code",
   "execution_count": 81,
   "metadata": {},
   "outputs": [
    {
     "name": "stdout",
     "output_type": "stream",
     "text": [
      "Requirement already satisfied: graphframes in c:\\users\\krish\\appdata\\local\\packages\\pythonsoftwarefoundation.python.3.10_qbz5n2kfra8p0\\localcache\\local-packages\\python310\\site-packages (0.6)\n",
      "Requirement already satisfied: numpy in c:\\users\\krish\\appdata\\local\\packages\\pythonsoftwarefoundation.python.3.10_qbz5n2kfra8p0\\localcache\\local-packages\\python310\\site-packages (from graphframes) (1.26.2)\n",
      "Requirement already satisfied: nose in c:\\users\\krish\\appdata\\local\\packages\\pythonsoftwarefoundation.python.3.10_qbz5n2kfra8p0\\localcache\\local-packages\\python310\\site-packages (from graphframes) (1.3.7)\n"
     ]
    }
   ],
   "source": [
    "! pip install graphframes"
   ]
  },
  {
   "cell_type": "code",
   "execution_count": 82,
   "metadata": {},
   "outputs": [
    {
     "name": "stdout",
     "output_type": "stream",
     "text": [
      "root\n",
      " |-- <id>: long (nullable = false)\n",
      " |-- <labels>: array (nullable = true)\n",
      " |    |-- element: string (containsNull = true)\n",
      " |-- id: string (nullable = true)\n",
      "\n"
     ]
    }
   ],
   "source": [
    "nodes_df.printSchema()\n"
   ]
  },
  {
   "cell_type": "code",
   "execution_count": 83,
   "metadata": {},
   "outputs": [
    {
     "name": "stdout",
     "output_type": "stream",
     "text": [
      "root\n",
      " |-- <rel.id>: long (nullable = false)\n",
      " |-- <rel.type>: string (nullable = false)\n",
      " |-- <source.id>: long (nullable = false)\n",
      " |-- <source.labels>: array (nullable = true)\n",
      " |    |-- element: string (containsNull = true)\n",
      " |-- source.id: string (nullable = true)\n",
      " |-- <target.id>: long (nullable = false)\n",
      " |-- <target.labels>: array (nullable = true)\n",
      " |    |-- element: string (containsNull = true)\n",
      " |-- target.id: string (nullable = true)\n",
      "\n"
     ]
    },
    {
     "name": "stdout",
     "output_type": "stream",
     "text": [
      "+-------------------+----------+-----------+---------------+----------+-----------+---------------+----------+\n",
      "|<rel.id>           |<rel.type>|<source.id>|<source.labels>|source.id |<target.id>|<target.labels>|target.id |\n",
      "+-------------------+----------+-----------+---------------+----------+-----------+---------------+----------+\n",
      "|1152921504606890866|CITES     |43890      |[Paper]        |2101923777|1          |[Paper]        |1971405342|\n",
      "|1157425104234221918|CITES     |4446       |[Paper]        |2117928809|2          |[Paper]        |2160484294|\n",
      "|1152921504606884718|CITES     |37742      |[Paper]        |2133936558|2          |[Paper]        |2160484294|\n",
      "|1152921504606846978|CITES     |2          |[Paper]        |2160484294|16         |[Paper]        |2167322980|\n",
      "|1152921504606851302|CITES     |4326       |[Paper]        |2166142148|16         |[Paper]        |2167322980|\n",
      "+-------------------+----------+-----------+---------------+----------+-----------+---------------+----------+\n",
      "only showing top 5 rows\n",
      "\n"
     ]
    }
   ],
   "source": [
    "relationships_df.printSchema()\n",
    "relationships_df.show(5, truncate=False)\n"
   ]
  },
  {
   "cell_type": "code",
   "execution_count": 84,
   "metadata": {},
   "outputs": [
    {
     "name": "stdout",
     "output_type": "stream",
     "text": [
      "Requirement already satisfied: graphframes in c:\\users\\krish\\appdata\\local\\packages\\pythonsoftwarefoundation.python.3.10_qbz5n2kfra8p0\\localcache\\local-packages\\python310\\site-packages (0.6)\n",
      "Requirement already satisfied: numpy in c:\\users\\krish\\appdata\\local\\packages\\pythonsoftwarefoundation.python.3.10_qbz5n2kfra8p0\\localcache\\local-packages\\python310\\site-packages (from graphframes) (1.26.2)\n",
      "Requirement already satisfied: nose in c:\\users\\krish\\appdata\\local\\packages\\pythonsoftwarefoundation.python.3.10_qbz5n2kfra8p0\\localcache\\local-packages\\python310\\site-packages (from graphframes) (1.3.7)\n"
     ]
    }
   ],
   "source": [
    "! pip install graphframes\n"
   ]
  },
  {
   "cell_type": "code",
   "execution_count": 85,
   "metadata": {},
   "outputs": [],
   "source": [
    "simrank_results = {0.7: {\"node\": 2982615777, \"similar_nodes\": {1556418098: [{\"node\": 1995529998, \"similarity\": 0.37}, {\"node\": 121193193, \"similarity\": 0.065}, {\"node\": 2518062904, \"similarity\": 0.065}, {\"node\": 2118756286, \"similarity\": 0.0353125}, {\"node\": 2131415946, \"similarity\": 0.01765625}, {\"node\": 1762028752, \"similarity\": 0.004265625}]}}, 0.8: {\"node\": 2982615777, \"similar_nodes\": {1556418098: [{\"node\": 1995529998, \"similarity\": 0.43}, {\"node\": 121193193, \"similarity\": 0.09}, {\"node\": 2131660762, \"similarity\": 0.09}, {\"node\": 2118756286, \"similarity\": 0.045}, {\"node\": 1491797991, \"similarity\": 0.045}, {\"node\": 2015372742, \"similarity\": 0.0225}, {\"node\": 2131415946, \"similarity\": 0.0225}, {\"node\": 1762028752, \"similarity\": 0.005625}]}}, 0.9: {\"node\": 2982615777, \"similar_nodes\": {1556418098: [{\"node\": 1995529998, \"similarity\": 0.47}, {\"node\": 2122991029, \"similarity\": 0.16}, {\"node\": 121193193, \"similarity\": 0.11}, {\"node\": 2518062904, \"similarity\": 0.11}, {\"node\": 2131660762, \"similarity\": 0.11}, {\"node\": 2118756286, \"similarity\": 0.055}, {\"node\": 2015372742, \"similarity\": 0.0275}, {\"node\": 1762028752, \"similarity\": 0.006953125}]}}}"
   ]
  },
  {
   "cell_type": "code",
   "execution_count": null,
   "metadata": {},
   "outputs": [],
   "source": [
    "from neo4j import GraphDatabase\n",
    "import networkx as nx\n",
    "from tqdm import tqdm\n",
    "# import neo4j_creds\n",
    "import pandas as pd\n",
    "from pyspark.sql import SparkSession\n",
    "\n",
    "if __name__ == \"__main__\":\n",
    "    spark = SparkSession.builder \\\n",
    "        .appName(\"Neo4jGraph\") \\\n",
    "        .getOrCreate()\n",
    "\n",
    "    driver = GraphDatabase.driver(\n",
    "        \"bolt://localhost:7687\", auth=(\"neo4j\", \"krishna1\")\n",
    "    )\n",
    "\n",
    "    with driver.session() as session:\n",
    "        result = session.run(\n",
    "            \"\"\"\n",
    "            MATCH (a:Paper)-[:CITES]->(b:Paper) \n",
    "            RETURN a.id AS source, b.id AS target\n",
    "            \"\"\"\n",
    "        )\n",
    "\n",
    "        edges = [\n",
    "            (record[\"source\"], record[\"target\"])\n",
    "            for record in tqdm(result, desc=\"Fetching edges\")\n",
    "        ]\n",
    "        \n",
    "\n",
    "        edges_df = spark.createDataFrame(edges, [\"source\", \"target\"])\n",
    "    \n",
    "    driver.close()\n",
    "\n",
    "    graph = nx.DiGraph()\n",
    "    for row in tqdm(edges_df.collect(), desc=\"Adding edges to graph\"):\n",
    "        graph.add_edge(row[\"source\"], row[\"target\"])\n",
    "\n",
    "    nx.write_edgelist(graph, \"graph.edgelist\")\n",
    "    \n",
    "    print(\"Graph processing complete!\")\n",
    "    spark.stop()\n"
   ]
  },
  {
   "cell_type": "code",
   "execution_count": null,
   "metadata": {},
   "outputs": [],
   "source": [
    "import networkx as nx\n",
    "from collections import defaultdict\n",
    "\n",
    "def efficient_simrank(graph, target_nodes, decay_factor=0.8, max_iterations=6, top_results=10):\n",
    "    target_nodes = [str(node) for node in target_nodes]\n",
    "    \n",
    "    incoming_neighbors = {node: set(graph.predecessors(node)) for node in graph.nodes()}\n",
    "\n",
    "    def calculate_pair_similarity(node_u, node_v, current_iteration):\n",
    "        if node_u == node_v:\n",
    "            return 1.0\n",
    "        \n",
    "        if current_iteration == 0:\n",
    "            return 0.0\n",
    "        \n",
    "        neighbors_u = incoming_neighbors[node_u]\n",
    "        neighbors_v = incoming_neighbors[node_v]\n",
    "        \n",
    "        if not neighbors_u or not neighbors_v:\n",
    "            return 0.0\n",
    "        \n",
    "        total_similarity = 0.0\n",
    "        i = 0\n",
    "        while i < len(neighbors_u):\n",
    "            j = 0\n",
    "            while j < len(neighbors_v):\n",
    "                total_similarity += calculate_pair_similarity(neighbors_u[i], neighbors_v[j], current_iteration - 1)\n",
    "                j += 1\n",
    "            i += 1\n",
    "        \n",
    "        return decay_factor * total_similarity / (len(neighbors_u) * len(neighbors_v))\n",
    "    \n",
    "    similarity_results = {}\n",
    "    \n",
    "    i = 0\n",
    "    while i < len(target_nodes):\n",
    "        node = target_nodes[i]\n",
    "        if node not in graph:\n",
    "            i += 1\n",
    "            continue\n",
    "            \n",
    "        node_similarities = []\n",
    "        j = 0\n",
    "        while j < len(graph.nodes()):\n",
    "            other_node = str(list(graph.nodes())[j])\n",
    "            if other_node != node:\n",
    "                similarity_score = calculate_pair_similarity(node, other_node, max_iterations)\n",
    "                if similarity_score > 0:\n",
    "                    node_similarities.append((other_node, similarity_score))\n",
    "            j += 1\n",
    "        \n",
    "        node_similarities.sort(key=lambda x: x[1], reverse=True)\n",
    "        similarity_results[node] = node_similarities[:top_results]\n",
    "        i += 1\n",
    "    \n",
    "    return similarity_results\n",
    "\n",
    "target_nodes = ['2982615777', '1556418098']\n",
    "decay_factors = [0.7, 0.8, 0.9]\n",
    "\n",
    "similarity_output = {}\n",
    "k = 0\n",
    "while k < len(decay_factors):\n",
    "    similarity_output[decay_factors[k]] = efficient_simrank(graph, target_nodes, decay_factor=decay_factors[k])\n",
    "    k += 1\n"
   ]
  },
  {
   "cell_type": "code",
   "execution_count": null,
   "metadata": {},
   "outputs": [
    {
     "name": "stdout",
     "output_type": "stream",
     "text": [
      "{0.7: {'node': 2982615777,\n",
      "       'similar_nodes': {1556418098: [{'node': 1995529998, 'similarity': 0.37},\n",
      "                                      {'node': 121193193, 'similarity': 0.065},\n",
      "                                      {'node': 2518062904, 'similarity': 0.065},\n",
      "                                      {'node': 2118756286, 'similarity': 0.0353125},\n",
      "                                      {'node': 2131415946, 'similarity': 0.01765625},\n",
      "                                      {'node': 1762028752, 'similarity': 0.004265625}]}},\n",
      " 0.8: {'node': 2982615777,\n",
      "       'similar_nodes': {1556418098: [{'node': 1995529998, 'similarity': 0.43},\n",
      "                                      {'node': 121193193, 'similarity': 0.09},\n",
      "                                      {'node': 2131660762, 'similarity': 0.09},\n",
      "                                      {'node': 2118756286, 'similarity': 0.045},\n",
      "                                      {'node': 1491797991, 'similarity': 0.045},\n",
      "                                      {'node': 2015372742, 'similarity': 0.0225},\n",
      "                                      {'node': 2131415946, 'similarity': 0.0225},\n",
      "                                      {'node': 1762028752, 'similarity': 0.005625}]}},\n",
      " 0.9: {'node': 2982615777,\n",
      "       'similar_nodes': {1556418098: [{'node': 1995529998, 'similarity': 0.47},\n",
      "                                      {'node': 2122991029, 'similarity': 0.16},\n",
      "                                      {'node': 121193193, 'similarity': 0.11},\n",
      "                                      {'node': 2518062904, 'similarity': 0.11},\n",
      "                                      {'node': 2131660762, 'similarity': 0.11},\n",
      "                                      {'node': 2118756286, 'similarity': 0.055},\n",
      "                                      {'node': 2015372742, 'similarity': 0.0275},\n",
      "                                      {'node': 1762028752, 'similarity': 0.006953125}]}}}\n"
     ]
    }
   ],
   "source": [
    "import pprint\n",
    "\n",
    "pprint.pprint(simrank_results, width=100)"
   ]
  },
  {
   "cell_type": "code",
   "execution_count": null,
   "metadata": {},
   "outputs": [],
   "source": []
  },
  {
   "cell_type": "code",
   "execution_count": null,
   "metadata": {},
   "outputs": [],
   "source": []
  }
 ],
 "metadata": {
  "kernelspec": {
   "display_name": "Python 3",
   "language": "python",
   "name": "python3"
  },
  "language_info": {
   "codemirror_mode": {
    "name": "ipython",
    "version": 3
   },
   "file_extension": ".py",
   "mimetype": "text/x-python",
   "name": "python",
   "nbconvert_exporter": "python",
   "pygments_lexer": "ipython3",
   "version": "3.10.11"
  }
 },
 "nbformat": 4,
 "nbformat_minor": 2
}
