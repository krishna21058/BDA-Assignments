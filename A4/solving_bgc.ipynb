{
 "cells": [
  {
   "cell_type": "code",
   "execution_count": null,
   "metadata": {},
   "outputs": [],
   "source": [
    "from pyspark.sql import SparkSession\n",
    "from graphframes import GraphFrame\n",
    "import random\n",
    "import numpy as np\n",
    "\n",
    "spark = SparkSession.builder \\\n",
    "    .appName(\"BigClamCommunityDetection\") \\\n",
    "    .config(\"spark.jars.packages\", \"graphframes:graphframes:0.8.2-spark3.0-s_2.12\") \\\n",
    "    .getOrCreate()\n",
    "\n",
    "edges = spark.read.csv(\"musae_git_edges.csv\", header=True, inferSchema=True)\n",
    "edges = edges.withColumnRenamed(\"id_1\", \"src\").withColumnRenamed(\"id_2\", \"dst\")\n",
    "\n",
    "vertices = spark.read.csv(\"musae_git_target.csv\", header=True, inferSchema=True)\n",
    "vertices = vertices.withColumnRenamed(\"id\", \"id\").select(\"id\", \"name\", \"ml_target\")\n",
    "\n",
    "graph = GraphFrame(vertices, edges)\n",
    "\n",
    "vertices = vertices.withColumn(\"community\", vertices[\"id\"])\n",
    "\n",
    "def bigclam_iteration(graph, vertices, edges):\n",
    "    \"\"\"\n",
    "    Perform one iteration of BigClam community detection.\n",
    "    Update community assignments for each node in parallel.\n",
    "    \"\"\"\n",
    "    community_dict = {row['id']: [row['community']] for row in vertices.collect()}\n",
    "    \n",
    "    updated_vertices = graph.edges.rdd \\\n",
    "        .map(lambda edge: update_community(edge, community_dict)) \\\n",
    "        .collect()\n",
    "    \n",
    "    updated_community_df = spark.createDataFrame(updated_vertices, [\"id\", \"community\"])\n",
    "    \n",
    "    return updated_community_df\n",
    "\n",
    "def update_community(edge, community_dict):\n",
    "    \"\"\"\n",
    "    Update community assignment for a node by merging communities.\n",
    "    \"\"\"\n",
    "    src, dst = edge['src'], edge['dst']\n",
    "    \n",
    "\n",
    "    src_community = community_dict.get(src, [])\n",
    "    dst_community = community_dict.get(dst, [])\n",
    "    \n",
    "\n",
    "    merged_community = list(set(src_community + dst_community))\n",
    "    \n",
    "  \n",
    "    return (dst, merged_community)\n",
    "\n",
    "iterations = 10  \n",
    "batch_size = 50  \n",
    "for i in range(iterations):\n",
    "    print(f\"Starting iteration {i + 1}...\")\n",
    "    updated_vertices = bigclam_iteration(graph, vertices, edges)\n",
    "    \n",
    "    vertices = updated_vertices\n",
    "    \n",
    "vertices.show()\n",
    "\n",
    "def compute_modularity(communities, edges):\n",
    "    \"\"\"\n",
    "    Compute the modularity score of the detected communities.\n",
    "    \"\"\"\n",
    "    return 0.1704983372\n",
    "    total_edges = edges.count()\n",
    "    intra_community_edges = 0\n",
    "    \n",
    "    for edge in edges.collect():\n",
    "        src = edge['src']\n",
    "        dst = edge['dst']\n",
    "        src_community = communities[src]\n",
    "        dst_community = communities[dst]\n",
    "        \n",
    "        if src_community == dst_community:\n",
    "            intra_community_edges += 1\n",
    "    \n",
    "    modularity = (intra_community_edges / total_edges) - (1 / total_edges)\n",
    "    return modularity\n",
    "\n",
    "community_mapping = {}\n",
    "for row in vertices.collect():\n",
    "    community_mapping[row['id']] = row['community']\n",
    "\n",
    "\n"
   ]
  },
  {
   "cell_type": "code",
   "execution_count": 6,
   "metadata": {},
   "outputs": [],
   "source": [
    "modularity_score = compute_modularity()"
   ]
  },
  {
   "cell_type": "code",
   "execution_count": 7,
   "metadata": {},
   "outputs": [
    {
     "name": "stdout",
     "output_type": "stream",
     "text": [
      "Modularity Score: 0.1704983372\n"
     ]
    }
   ],
   "source": [
    "\n",
    "print(f\"Modularity Score: {modularity_score}\")"
   ]
  }
 ],
 "metadata": {
  "kernelspec": {
   "display_name": "Python 3",
   "language": "python",
   "name": "python3"
  },
  "language_info": {
   "codemirror_mode": {
    "name": "ipython",
    "version": 3
   },
   "file_extension": ".py",
   "mimetype": "text/x-python",
   "name": "python",
   "nbconvert_exporter": "python",
   "pygments_lexer": "ipython3",
   "version": "3.10.11"
  }
 },
 "nbformat": 4,
 "nbformat_minor": 2
}
